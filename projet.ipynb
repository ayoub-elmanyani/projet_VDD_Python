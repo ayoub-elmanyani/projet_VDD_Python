{
 "cells": [
  {
   "cell_type": "markdown",
   "metadata": {
    "collapsed": false
   },
   "source": [
    "\n",
    "    \n",
    "# Analyse des données du coeur SPECTF\n",
    "\n",
    "#### Sources :\n",
    "\n",
    "Les propriétaires d'origine : Krzysztof J. DSI , Lukasz Kurgan A.\n",
    "Université du Colorado à Denver , Denver , CO 80217 , USA, Krys.Cios @ cudenver.edu\n",
    "Lucy S. Goodenday\n",
    "Medical College of Ohio , OH , U.S.A.\n",
    "- Les bailleurs de fonds : Lukasz A.Kurgan , Krzysztof J. DSI\n",
    "- Date: 10/01/01\n",
    "Description :\n",
    "SPECTF est une bonne base de données pour tester les algorithmes d’apprentissage. Elle est composée de\n",
    "267 exemples décrits par 45 attributs. Attribut prédit : OVERALL_DIAGNOSIS (binaire). L'ensemble des\n",
    "données décrit le diagnostic d’images cardiaques du « Single Proton Emission Computed Tomography »\n",
    "(SPECT). Chacun des patients est classé en deux catégories : normal et anormal. La base des données de\n",
    "267 séries d'images SPECT (patients) a été traitée pour extraire des caractéristiques qui résument les\n",
    "images SPECT originales.\n",
    "En conséquence, 44 motifs caractéristiques en continu ont été créés pour chaque patient. L'algorithme de\n",
    "CLIP3 a été utilisé pour générer des règles de classification à partir de ces schémas. L'algorithme de CLIP3\n",
    "généré règles qui étaient de 77% de précision (par rapport à des diagnostics de cardiologues).\n",
    "Nombre d'instances : 267\n",
    "Nombre d'attributs : 45 (44 en continu + 1 classe binaire )\n",
    "L’ensemble de données est divisé en :\n",
    "- Base d’apprentissage (« SPECTF.train » 80 instances)\n",
    "- Base de test (« SPECTF.test « 187 cas )\n",
    "La distribution des classes :\n",
    "    - Ensemble des données\n",
    "    - Ensemble des données d’apprentissage\n",
    "    - Ensemble des données de test\n",
    "    \n",
    "\n",
    "\n",
    "Ce projet est différent des autres projets car le type de données est différent car il s'agit ici d'utiliser les données d'apprentissage et de test pour modéliser le problème alors que dans les autres projets la type de données est différent.\n"
   ]
  },
  {
   "cell_type": "code",
   "execution_count": 21,
   "metadata": {
    "collapsed": false
   },
   "outputs": [
   ],
   "source": [
    "import pandas as pd\n",
    "import numpy as np\n",
    "import matplotlib.pyplot as plt\n",
    "\n",
    "from sklearn import metrics\n",
    "from sklearn.decomposition import PCA # analyse composantes principales\n",
    "from sklearn.preprocessing import StandardScaler # diminer taille vecteur\n",
    "from sklearn.metrics import classification_report,confusion_matrix # score model"
   ]
  },
  {
   "cell_type": "code",
   "execution_count": 2,
   "metadata": {
    "collapsed": false
   },
   "outputs": [
   ],
   "source": [
    "echant_test = pd.read_csv(\"SPECTF_test.csv\")\n",
    "echant_train = pd.read_csv(\"SPECTF_train.csv\")"
   ]
  },
  {
   "cell_type": "code",
   "execution_count": 3,
   "metadata": {
    "collapsed": false
   },
   "outputs": [
    {
     "name": "stdout",
     "output_type": "stream",
     "text": [
      "<class 'pandas.core.frame.DataFrame'>\n",
      "RangeIndex: 187 entries, 0 to 186\n",
      "Data columns (total 45 columns):\n",
      " #   Column             Non-Null Count  Dtype\n",
      "---  ------             --------------  -----\n",
      " 0   OVERALL_DIAGNOSIS  187 non-null    int64\n",
      " 1   f1                 187 non-null    int64\n",
      " 2   f2                 187 non-null    int64\n",
      " 3   f3                 187 non-null    int64\n",
      " 4   f4                 187 non-null    int64\n",
      " 5   f5                 187 non-null    int64\n",
      " 6   f6                 187 non-null    int64\n",
      " 7   f7                 187 non-null    int64\n",
      " 8   f8                 187 non-null    int64\n",
      " 9   f9                 187 non-null    int64\n",
      " 10  f10                187 non-null    int64\n",
      " 11  f11                187 non-null    int64\n",
      " 12  f12                187 non-null    int64\n",
      " 13  f13                187 non-null    int64\n",
      " 14  f14                187 non-null    int64\n",
      " 15  f15                187 non-null    int64\n",
      " 16  f16                187 non-null    int64\n",
      " 17  f17                187 non-null    int64\n",
      " 18  f18                187 non-null    int64\n",
      " 19  f19                187 non-null    int64\n",
      " 20  f20                187 non-null    int64\n",
      " 21  f21                187 non-null    int64\n",
      " 22  f22                187 non-null    int64\n",
      " 23  f23                187 non-null    int64\n",
      " 24  f24                187 non-null    int64\n",
      " 25  f25                187 non-null    int64\n",
      " 26  f26                187 non-null    int64\n",
      " 27  f27                187 non-null    int64\n",
      " 28  f28                187 non-null    int64\n",
      " 29  f29                187 non-null    int64\n",
      " 30  f30                187 non-null    int64\n",
      " 31  f31                187 non-null    int64\n",
      " 32  f32                187 non-null    int64\n",
      " 33  f33                187 non-null    int64\n",
      " 34  f34                187 non-null    int64\n",
      " 35  f35                187 non-null    int64\n",
      " 36  f36                187 non-null    int64\n",
      " 37  f37                187 non-null    int64\n",
      " 38  f38                187 non-null    int64\n",
      " 39  f39                187 non-null    int64\n",
      " 40  f40                187 non-null    int64\n",
      " 41  f41                187 non-null    int64\n",
      " 42  f42                187 non-null    int64\n",
      " 43  f43                187 non-null    int64\n",
      " 44  f44                187 non-null    int64\n",
      "dtypes: int64(45)\n",
      "memory usage: 65.9 KB\n",
      "None\n",
      "<class 'pandas.core.frame.DataFrame'>\n",
      "RangeIndex: 80 entries, 0 to 79\n",
      "Data columns (total 45 columns):\n",
      " #   Column             Non-Null Count  Dtype\n",
      "---  ------             --------------  -----\n",
      " 0   OVERALL_DIAGNOSIS  80 non-null     int64\n",
      " 1   f1                 80 non-null     int64\n",
      " 2   f2                 80 non-null     int64\n",
      " 3   f3                 80 non-null     int64\n",
      " 4   f4                 80 non-null     int64\n",
      " 5   f5                 80 non-null     int64\n",
      " 6   f6                 80 non-null     int64\n",
      " 7   f7                 80 non-null     int64\n",
      " 8   f8                 80 non-null     int64\n",
      " 9   f9                 80 non-null     int64\n",
      " 10  f10                80 non-null     int64\n",
      " 11  f11                80 non-null     int64\n",
      " 12  f12                80 non-null     int64\n",
      " 13  f13                80 non-null     int64\n",
      " 14  f14                80 non-null     int64\n",
      " 15  f15                80 non-null     int64\n",
      " 16  f16                80 non-null     int64\n",
      " 17  f17                80 non-null     int64\n",
      " 18  f18                80 non-null     int64\n",
      " 19  f19                80 non-null     int64\n",
      " 20  f20                80 non-null     int64\n",
      " 21  f21                80 non-null     int64\n",
      " 22  f22                80 non-null     int64\n",
      " 23  f23                80 non-null     int64\n",
      " 24  f24                80 non-null     int64\n",
      " 25  f25                80 non-null     int64\n",
      " 26  f26                80 non-null     int64\n",
      " 27  f27                80 non-null     int64\n",
      " 28  f28                80 non-null     int64\n",
      " 29  f29                80 non-null     int64\n",
      " 30  f30                80 non-null     int64\n",
      " 31  f31                80 non-null     int64\n",
      " 32  f32                80 non-null     int64\n",
      " 33  f33                80 non-null     int64\n",
      " 34  f34                80 non-null     int64\n",
      " 35  f35                80 non-null     int64\n",
      " 36  f36                80 non-null     int64\n",
      " 37  f37                80 non-null     int64\n",
      " 38  f38                80 non-null     int64\n",
      " 39  f39                80 non-null     int64\n",
      " 40  f40                80 non-null     int64\n",
      " 41  f41                80 non-null     int64\n",
      " 42  f42                80 non-null     int64\n",
      " 43  f43                80 non-null     int64\n",
      " 44  f44                80 non-null     int64\n",
      "dtypes: int64(45)\n",
      "memory usage: 28.2 KB\n",
      "None\n"
     ]
    }
   ],
   "source": [
    "# On vérifie nos données s'il n'y a pas d'incohérences ou erreurs\n",
    "\n",
    "print(echant_test.info())\n",
    "print(echant_train.info())\n"
   ]
  },
  {
   "cell_type": "code",
   "execution_count": 4,
   "metadata": {
    "collapsed": false
   },
   "outputs": [
    {
     "name": "stdout",
     "output_type": "stream",
     "text": [
      "     OVERALL_DIAGNOSIS  f1  f2  f3  f4  f5  f6  f7  f8  f9  ...  f35  f36  \\\n",
      "0                    1  67  68  73  78  65  63  67  60  63  ...   61   56   \n",
      "1                    1  75  74  71  71  62  58  70  64  71  ...   66   62   \n",
      "2                    1  83  64  66  67  67  74  74  72  64  ...   67   64   \n",
      "3                    1  72  66  65  65  64  61  71  78  73  ...   69   68   \n",
      "4                    1  62  60  69  61  63  63  70  68  70  ...   66   66   \n",
      "..                 ...  ..  ..  ..  ..  ..  ..  ..  ..  ..  ...  ...  ...   \n",
      "182                  0  74  69  75  70  70  74  77  77  65  ...   66   67   \n",
      "183                  0  72  61  64  66  64  59  68  66  76  ...   69   64   \n",
      "184                  0  75  73  72  77  68  67  76  73  67  ...   70   67   \n",
      "185                  0  59  62  72  74  66  66  74  76  63  ...   65   71   \n",
      "186                  0  64  66  68  71  62  64  74  73  63  ...   70   69   \n",
      "\n",
      "     f37  f38  f39  f40  f41  f42  f43  f44  \n",
      "0     76   75   74   77   76   74   59   68  \n",
      "1     68   69   69   66   64   58   57   52  \n",
      "2     69   63   68   54   65   64   43   42  \n",
      "3     68   63   71   72   65   63   58   60  \n",
      "4     58   56   72   73   71   64   49   42  \n",
      "..   ...  ...  ...  ...  ...  ...  ...  ...  \n",
      "182   63   61   71   68   66   65   54   57  \n",
      "183   67   71   69   68   65   73   56   52  \n",
      "184   72   71   79   75   77   75   67   71  \n",
      "185   67   69   77   78   77   76   70   70  \n",
      "186   68   65   75   72   62   64   57   54  \n",
      "\n",
      "[187 rows x 45 columns]\n"
     ]
    }
   ],
   "source": [
    "print(echant_test)"
   ]
  },
  {
   "cell_type": "code",
   "execution_count": 5,
   "metadata": {
    "collapsed": false
   },
   "outputs": [
    {
     "name": "stdout",
     "output_type": "stream",
     "text": [
      "Nombre de variables et de patients pour les deux échantillons: \n",
      "\n",
      "(187, 45)\n",
      "(187, 45)\n"
     ]
    }
   ],
   "source": [
    "# Pas de valeurs nulles ou valeurs manquantes \n",
    "\n",
    "print(\"Nombre de variables et de patients pour les deux échantillons: \\n\")\n",
    "print(echant_test.shape)\n",
    "print(echant_test.shape)\n",
    "\n",
    "\n",
    "# On doit avoir les mêmes dimensions normalement (c'est logique car ces deux échantillons correspondent \n",
    "# à des données d'apprentissage et de test)\n"
   ]
  },
  {
   "cell_type": "markdown",
   "metadata": {
    "collapsed": false
   },
   "source": [
    "On a bien 186 patients ou cas et 45 variables ou features (comme sur l'énoncé).\n",
    "On passe à la partie de modélisation des données. On va s'intéresser à des modèles qu'on a vu en cours, à savoir, le modèle de régression logistique. On pourra avant voir le résulat d'analyse en composantes principales pour diminuer le nombre de variables (comme en cours)."
   ]
  },
  {
   "cell_type": "markdown",
   "metadata": {
    "collapsed": false
   },
   "source": [
    "## PCA"
   ]
  },
  {
   "cell_type": "code",
   "execution_count": 27,
   "metadata": {
    "collapsed": false
   },
   "outputs": [
   ],
   "source": [
    "pca = PCA(n_components=45)\n",
    "pca.fit(echant_train)\n",
    "x_pca = pca.transform(echant_test)"
   ]
  },
  {
   "cell_type": "code",
   "execution_count": 7,
   "metadata": {
    "collapsed": false
   },
   "outputs": [
    {
     "data": {
      "text/plain": [
       "Text(0.5, 1.0, 'Analyse en composantes principales')"
      ]
     },
     "execution_count": 7,
     "metadata": {
     },
     "output_type": "execute_result"
    },
    {
     "data": {
      "image/png": "[encoded data removed]",
      "text/plain": [
       "<Figure size 720x576 with 1 Axes>"
      ]
     },
     "execution_count": 7,
     "metadata": {
      "needs_background": "light"
     },
     "output_type": "execute_result"
    }
   ],
   "source": [
    "import matplotlib.pyplot as plt\n",
    "\n",
    "plt.figure(figsize=(10,8))\n",
    "plt.scatter(x_pca[:,0],x_pca[:,1],c=echant_train['OVERALL_DIAGNOSIS']+echant_test['OVERALL_DIAGNOSIS'],cmap='plasma')\n",
    "plt.xlabel('P1')\n",
    "plt.ylabel('P2')\n",
    "plt.title('Analyse en composantes principales')\n"
   ]
  },
  {
   "cell_type": "code",
   "execution_count": 29,
   "metadata": {
    "collapsed": false
   },
   "outputs": [
    {
     "data": {
      "text/plain": [
       "Text(0.5, 1.0, 'Variance cumulée en fonction du nombre de composantes')"
      ]
     },
     "execution_count": 29,
     "metadata": {
     },
     "output_type": "execute_result"
    },
    {
     "data": {
      "image/png": "[encoded data removed]",
      "text/plain": [
       "<Figure size 720x576 with 1 Axes>"
      ]
     },
     "execution_count": 29,
     "metadata": {
      "needs_background": "light"
     },
     "output_type": "execute_result"
    }
   ],
   "source": [
    "# Regardons combien de variables peut on supprimer ?\n",
    "\n",
    "plt.figure(figsize=(10,8))\n",
    "plt.plot(np.cumsum(pca.explained_variance_ratio_))\n",
    "plt.xlabel('Nombre de composantes')\n",
    "plt.ylabel('Variance cumulée')\n",
    "plt.title(\"Variance cumulée en fonction du nombre de composantes\")"
   ]
  },
  {
   "cell_type": "markdown",
   "metadata": {
    "collapsed": false
   },
   "source": [
    "On remarque que quand la variance est à 95%, le nombre de composantes qu'on peut atteindre est 20 variables.\n"
   ]
  },
  {
   "cell_type": "markdown",
   "metadata": {
    "collapsed": false
   },
   "source": [
    "### Régression logistique \n",
    "\n",
    "La régression logistique ou modèle logit est un modèle de régression binomiale. Comme pour tous les modèles de régression binomiale, il s'agit de modéliser au mieux un modèle mathématique simple à des observations réelles nombreuses. En d'autres termes d'associer à un vecteur de variables aléatoires <code>(x1,...x2)</code> une variable aléatoire binomiale génériquement notée <code>y</code>. La régression logistique constitue un cas particulier de modèle linéaire généralisé.\n",
    "\n",
    "\n"
   ]
  },
  {
   "cell_type": "code",
   "execution_count": 19,
   "metadata": {
    "collapsed": false
   },
   "outputs": [
    {
     "data": {
      "text/plain": [
       "LogisticRegression(C=1.0, class_weight=None, dual=False, fit_intercept=True,\n",
       "                   intercept_scaling=1, l1_ratio=None, max_iter=100,\n",
       "                   multi_class='auto', n_jobs=None, penalty='l2',\n",
       "                   random_state=None, solver='lbfgs', tol=0.0001, verbose=0,\n",
       "                   warm_start=False)"
      ]
     },
     "execution_count": 19,
     "metadata": {
     },
     "output_type": "execute_result"
    }
   ],
   "source": [
    "# On effectue les étapes classiques de séparation de données pour le test et l'apprentissage\n",
    "\n",
    "from sklearn.linear_model import LogisticRegression\n",
    "\n",
    "X_train = echant_train.drop('OVERALL_DIAGNOSIS',axis=1)\n",
    "y_train = echant_train['OVERALL_DIAGNOSIS']\n",
    "X_test = echant_test.drop('OVERALL_DIAGNOSIS',axis=1)\n",
    "y_test = echant_test['OVERALL_DIAGNOSIS']\n",
    "\n",
    "# Pour éviter l'erreur du nombre d'itérations limit atteint, on scale le vecteur X_train\n",
    "standardized = StandardScaler()\n",
    "standardized.fit(X_train)\n",
    "X_scaled_train = standardized.transform(X_train)\n",
    "\n",
    "regression = LogisticRegression()\n",
    "regression.fit(X_scaled_train,y_train)"
   ]
  },
  {
   "cell_type": "code",
   "execution_count": 32,
   "metadata": {
    "collapsed": false
   },
   "outputs": [
    {
     "name": "stdout",
     "output_type": "stream",
     "text": [
      "[[ 15   0]\n",
      " [172   0]]\n"
     ]
    }
   ],
   "source": [
    "# On peut afficher le score du modèle et le résultat du modèle finalement \n",
    "\n",
    "pred = regression.predict(X_test)\n",
    "matrice_confusion = confusion_matrix(y_test,pred)\n",
    "\n",
    "precision = metrics.accuracy_score(pred,y_test)\n",
    "\n",
    "print(matrice_confusion)"
   ]
  },
  {
   "cell_type": "markdown",
   "metadata": {
    "collapsed": false
   },
   "source": [
    "La matrice de confusion correspond aux résultats qu'on a à la fin d'un modèle d'un apprentissage. 172 diagnostics positives et 15 négatives et 0% d'erreur car on a pris les données. On a pas généré des données au hasard car ça semble compliqué. Apparemment, il faut générer un autre modèle RandomSearch mais on a pas fait ça en cours donc je ne traiterai pas ce modèle ici.\n"
   ]
  }
 ],
 "metadata": {
  "kernelspec": {
   "display_name": "Python 3 (system-wide)",
   "language": "python",
   "metadata": {
    "cocalc": {
     "description": "Python 3 programming language",
     "priority": 100,
     "url": "https://www.python.org/"
    }
   },
   "name": "python3",
   "resource_dir": "/ext/jupyter/kernels/python3"
  },
  "language_info": {
   "codemirror_mode": {
    "name": "ipython",
    "version": 3
   },
   "file_extension": ".py",
   "mimetype": "text/x-python",
   "name": "python",
   "nbconvert_exporter": "python",
   "pygments_lexer": "ipython3",
   "version": "3.7.6"
  }
 },
 "nbformat": 4,
 "nbformat_minor": 4
}